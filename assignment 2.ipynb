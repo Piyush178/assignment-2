{
 "cells": [
  {
   "cell_type": "code",
   "execution_count": 2,
   "id": "56e0b233-b05f-46eb-8f9a-dfc615e0e145",
   "metadata": {},
   "outputs": [],
   "source": [
    "#Q1. Explain with an example each when to use a for loop and a while loop."
   ]
  },
  {
   "cell_type": "code",
   "execution_count": 5,
   "id": "98dc83d7-4ea1-4837-b0c0-564673d6026c",
   "metadata": {},
   "outputs": [
    {
     "name": "stdout",
     "output_type": "stream",
     "text": [
      "Sum of numbers: 15\n"
     ]
    }
   ],
   "source": [
    "#for loop:\n",
    "#A for loop is used when you know the number of iterations in advance or when you want to iterate over a specific sequence\n",
    "numbers = [1, 2, 3, 4, 5]\n",
    "sum_result = 0\n",
    "\n",
    "for num in numbers:\n",
    "    sum_result += num\n",
    "\n",
    "print(\"Sum of numbers:\", sum_result)\n"
   ]
  },
  {
   "cell_type": "code",
   "execution_count": 7,
   "id": "b682623d-079d-4afb-926f-27c3b4f1e268",
   "metadata": {},
   "outputs": [
    {
     "name": "stdout",
     "output_type": "stream",
     "text": [
      "Smallest power of 2 greater than 1000: 1024\n"
     ]
    }
   ],
   "source": [
    "#while loop:\n",
    "#A while loop is used when you don't know the number of iterations in advance, but you have a condition that determines when to exit the loop\n",
    "power_of_2 = 1\n",
    "\n",
    "while power_of_2 <= 1000:\n",
    "    power_of_2 *= 2\n",
    "\n",
    "print(\"Smallest power of 2 greater than 1000:\", power_of_2)\n"
   ]
  },
  {
   "cell_type": "code",
   "execution_count": 9,
   "id": "5d5bb8af-40ac-4634-9c96-e9c0a6f1ab48",
   "metadata": {},
   "outputs": [],
   "source": [
    "#Q2. Write a python program to print the sum and product of the first 10 natural numbers using for and while loop."
   ]
  },
  {
   "cell_type": "code",
   "execution_count": 10,
   "id": "ce46aee7-5593-4ebd-acf5-5801a7b3e597",
   "metadata": {},
   "outputs": [
    {
     "name": "stdout",
     "output_type": "stream",
     "text": [
      "Sum using for loop: 55\n",
      "Product using for loop: 3628800\n"
     ]
    }
   ],
   "source": [
    "# Using for loop\n",
    "sum_result = 0\n",
    "product_result = 1\n",
    "\n",
    "for i in range(1, 11):\n",
    "    sum_result += i\n",
    "    product_result *= i\n",
    "\n",
    "print(\"Sum using for loop:\", sum_result)\n",
    "print(\"Product using for loop:\", product_result)\n"
   ]
  },
  {
   "cell_type": "code",
   "execution_count": 11,
   "id": "e9039fd3-bd2f-4014-a69e-73f7bac04ca2",
   "metadata": {},
   "outputs": [
    {
     "name": "stdout",
     "output_type": "stream",
     "text": [
      "Sum using while loop: 55\n",
      "Product using while loop: 3628800\n"
     ]
    }
   ],
   "source": [
    "# Using while loop\n",
    "sum_result = 0\n",
    "product_result = 1\n",
    "counter = 1\n",
    "\n",
    "while counter <= 10:\n",
    "    sum_result += counter\n",
    "    product_result *= counter\n",
    "    counter += 1\n",
    "\n",
    "print(\"Sum using while loop:\", sum_result)\n",
    "print(\"Product using while loop:\", product_result)\n"
   ]
  },
  {
   "cell_type": "code",
   "execution_count": 12,
   "id": "e24d8296-f614-4ccb-96c4-18e5ca20b8e8",
   "metadata": {},
   "outputs": [],
   "source": [
    "#Q3. Create a python program to compute the electricity bill for a household."
   ]
  },
  {
   "cell_type": "code",
   "execution_count": 13,
   "id": "96aba23c-4c0c-4ad8-97f0-f1f9f129c591",
   "metadata": {},
   "outputs": [
    {
     "name": "stdin",
     "output_type": "stream",
     "text": [
      "Enter the units of electricity consumed:  310\n"
     ]
    },
    {
     "name": "stdout",
     "output_type": "stream",
     "text": [
      "Electricity bill for the household: Rs. 2250.0\n"
     ]
    }
   ],
   "source": [
    "def calculate_electricity_bill(units):\n",
    "    total_bill = 0\n",
    "\n",
    "    if units <= 100:\n",
    "        total_bill = units * 4.5\n",
    "    elif units <= 200:\n",
    "        total_bill = 100 * 4.5 + (units - 100) * 6\n",
    "    elif units <= 300:\n",
    "        total_bill = 100 * 4.5 + 100 * 6 + (units - 200) * 10\n",
    "    else:\n",
    "        total_bill = 100 * 4.5 + 100 * 6 + 100 * 10 + (units - 300) * 20\n",
    "\n",
    "    return total_bill\n",
    "\n",
    "# Taking user input for units of electricity consumed\n",
    "units = int(input(\"Enter the units of electricity consumed: \"))\n",
    "\n",
    "# Calculating the electricity bill\n",
    "bill = calculate_electricity_bill(units)\n",
    "\n",
    "# Printing the electricity bill\n",
    "print(\"Electricity bill for the household: Rs.\", bill)\n"
   ]
  },
  {
   "cell_type": "code",
   "execution_count": 14,
   "id": "3c10912d-8939-4b57-92b9-b201ad149fc8",
   "metadata": {},
   "outputs": [],
   "source": [
    "#Q4. Create a list of numbers from 1 to 100. Use for loop and while loop to calculate the cube of each\n",
    "#number and if the cube of that number is divisible by 4 or 5 then append that number in a list and printthat list."
   ]
  },
  {
   "cell_type": "code",
   "execution_count": 15,
   "id": "2950cb00-77a3-4b39-becd-553ae38b675f",
   "metadata": {},
   "outputs": [
    {
     "name": "stdout",
     "output_type": "stream",
     "text": [
      "Numbers with cubes divisible by 4 or 5: [2, 4, 5, 6, 8, 10, 12, 14, 15, 16, 18, 20, 22, 24, 25, 26, 28, 30, 32, 34, 35, 36, 38, 40, 42, 44, 45, 46, 48, 50, 52, 54, 55, 56, 58, 60, 62, 64, 65, 66, 68, 70, 72, 74, 75, 76, 78, 80, 82, 84, 85, 86, 88, 90, 92, 94, 95, 96, 98, 100]\n"
     ]
    }
   ],
   "source": [
    "#for loop\n",
    "cubes = []\n",
    "\n",
    "for num in range(1, 101):\n",
    "    cube = num ** 3\n",
    "    if cube % 4 == 0 or cube % 5 == 0:\n",
    "        cubes.append(num)\n",
    "\n",
    "print(\"Numbers with cubes divisible by 4 or 5:\", cubes)\n"
   ]
  },
  {
   "cell_type": "code",
   "execution_count": 16,
   "id": "ef05c938-f443-4d13-8ba7-efc2a16d05f2",
   "metadata": {},
   "outputs": [
    {
     "name": "stdout",
     "output_type": "stream",
     "text": [
      "Numbers with cubes divisible by 4 or 5: [2, 4, 5, 6, 8, 10, 12, 14, 15, 16, 18, 20, 22, 24, 25, 26, 28, 30, 32, 34, 35, 36, 38, 40, 42, 44, 45, 46, 48, 50, 52, 54, 55, 56, 58, 60, 62, 64, 65, 66, 68, 70, 72, 74, 75, 76, 78, 80, 82, 84, 85, 86, 88, 90, 92, 94, 95, 96, 98, 100]\n"
     ]
    }
   ],
   "source": [
    "# while loop\n",
    "cubes = []\n",
    "num = 1\n",
    "\n",
    "while num <= 100:\n",
    "    cube = num ** 3\n",
    "    if cube % 4 == 0 or cube % 5 == 0:\n",
    "        cubes.append(num)\n",
    "    num += 1\n",
    "\n",
    "print(\"Numbers with cubes divisible by 4 or 5:\", cubes)\n"
   ]
  },
  {
   "cell_type": "code",
   "execution_count": 17,
   "id": "8bb653b4-c612-4e8f-9328-b1951fdf0ddd",
   "metadata": {},
   "outputs": [],
   "source": [
    "#Q5. Write a program to filter count vowels in the below-given string. string = \"I want to become a data scientist\""
   ]
  },
  {
   "cell_type": "code",
   "execution_count": 18,
   "id": "df139a30-be05-48fc-bd89-62692aa3a4c2",
   "metadata": {},
   "outputs": [
    {
     "name": "stdout",
     "output_type": "stream",
     "text": [
      "Count of vowels: 12\n"
     ]
    }
   ],
   "source": [
    "string = \"I want to become a data scientist\"\n",
    "\n",
    "string = string.lower()\n",
    "\n",
    "vowels = ['a', 'e', 'i', 'o', 'u']\n",
    "\n",
    "count = 0\n",
    "\n",
    "for char in string:\n",
    "    if char in vowels:\n",
    "        count += 1\n",
    "print(\"Count of vowels:\", count)\n"
   ]
  },
  {
   "cell_type": "code",
   "execution_count": null,
   "id": "eb7c9595-1064-49fc-bcf4-56374f2c3a4c",
   "metadata": {},
   "outputs": [],
   "source": []
  }
 ],
 "metadata": {
  "kernelspec": {
   "display_name": "Python 3 (ipykernel)",
   "language": "python",
   "name": "python3"
  },
  "language_info": {
   "codemirror_mode": {
    "name": "ipython",
    "version": 3
   },
   "file_extension": ".py",
   "mimetype": "text/x-python",
   "name": "python",
   "nbconvert_exporter": "python",
   "pygments_lexer": "ipython3",
   "version": "3.10.8"
  }
 },
 "nbformat": 4,
 "nbformat_minor": 5
}
